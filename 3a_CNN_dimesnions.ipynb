{
 "cells": [
  {
   "cell_type": "markdown",
   "metadata": {},
   "source": [
    "### CNN DIMENSIONS ANALYSIS"
   ]
  },
  {
   "cell_type": "code",
   "execution_count": 19,
   "metadata": {},
   "outputs": [],
   "source": [
    "import torch\n",
    "import torch.nn as nn\n",
    "import torch.nn.functional as F\n",
    "from torchvision import models\n",
    "class cnet(nn.Module):\n",
    "    def __init__(self):\n",
    "        super().__init__()\n",
    "        self.conv1 = nn.Conv2d(1,32,5)      # 1 image, 32 channels, 5*5 krnel default stride=1\n",
    "        self.conv2 = nn.Conv2d(32,64,5)\n",
    "        self.conv3 = nn.Conv2d(64,128,5)\n",
    "        \n",
    "    \n",
    "        x = torch.randn(1,50,50).view(-1,1,50,50)\n",
    "        self.to_linear = None   #auxillary variable to calculate shape of output of conv+max_pool\n",
    "        self.convs(x)        \n",
    "        \n",
    "        self.fc1 = nn.Linear(self.to_linear,512)\n",
    "        self.fc2 = nn.Linear(512,256)\n",
    "        self.fc3 = nn.Linear(256,2)\n",
    "        \n",
    "    def convs(self,x):\n",
    "\n",
    "        x = F.max_pool2d(F.relu(self.conv1(x)),(2,2))\n",
    "        print(\"Layer_1=\",x[0].shape[0],x[0].shape[1],x[0].shape[2])\n",
    "        x = F.max_pool2d(F.relu(self.conv2(x)),(2,2))\n",
    "        print(\"Layer_2=\",x[0].shape[0],x[0].shape[1],x[0].shape[2])\n",
    "        x = F.max_pool2d(F.relu(self.conv3(x)),(2,2))\n",
    "        print(\"Layer_3=\",x[0].shape[0],x[0].shape[1],x[0].shape[2])\n",
    "        #x = self.model(x)\n",
    "        if self.to_linear is None:\n",
    "            self.to_linear = x[0].shape[0]*x[0].shape[1]*x[0].shape[2]\n",
    "        return x\n",
    "    def forward(self,x):\n",
    "        x = self.convs(x)\n",
    "        x = x.view(-1,self.to_linear)   #flattening\n",
    "        x = F.relu(self.fc1(x))\n",
    "        x = F.relu(self.fc2(x))\n",
    "        x = self.fc3(x)\n",
    "        return F.softmax(x,dim=1)"
   ]
  },
  {
   "cell_type": "code",
   "execution_count": 20,
   "metadata": {},
   "outputs": [
    {
     "name": "stdout",
     "output_type": "stream",
     "text": [
      "Layer_1= 32 23 23\n",
      "Layer_2= 64 9 9\n",
      "Layer_3= 128 2 2\n"
     ]
    }
   ],
   "source": [
    "net = cnet()"
   ]
  },
  {
   "cell_type": "code",
   "execution_count": 4,
   "metadata": {},
   "outputs": [
    {
     "name": "stdout",
     "output_type": "stream",
     "text": [
      "cnet(\n",
      "  (conv1): Conv2d(1, 32, kernel_size=(5, 5), stride=(1, 1))\n",
      "  (conv2): Conv2d(32, 64, kernel_size=(5, 5), stride=(1, 1))\n",
      "  (conv3): Conv2d(64, 128, kernel_size=(5, 5), stride=(1, 1))\n",
      "  (fc1): Linear(in_features=512, out_features=512, bias=True)\n",
      "  (fc2): Linear(in_features=512, out_features=256, bias=True)\n",
      "  (fc3): Linear(in_features=256, out_features=2, bias=True)\n",
      ")\n"
     ]
    }
   ],
   "source": [
    "print(net)"
   ]
  },
  {
   "cell_type": "code",
   "execution_count": 6,
   "metadata": {},
   "outputs": [
    {
     "name": "stdout",
     "output_type": "stream",
     "text": [
      "512\n"
     ]
    }
   ],
   "source": [
    "print(net.to_linear)"
   ]
  },
  {
   "cell_type": "markdown",
   "metadata": {},
   "source": [
    "#### Formula"
   ]
  },
  {
   "cell_type": "markdown",
   "metadata": {},
   "source": [
    "Input: n X n\n",
    "<br>\n",
    "Padding: p\n",
    "<br>\n",
    "Stride: s\n",
    "<br>\n",
    "Filter size: f X f\n",
    "<br>\n",
    "Output: [(n+2p-f)/s  + 1] X [(n+2p-f)/s  +  1]"
   ]
  },
  {
   "cell_type": "markdown",
   "metadata": {},
   "source": [
    "#First layer  \n",
    "* conv2d(output 32 channels, input = 50x50, filter=5x5, stride =1)\n",
    "<br>\n",
    "(50-5)/1 + 1  = 46 i.e, 32 channels of size 46x46\n",
    "* maxpool2d(output 32 channels, input = 46x46 , filter=2x2, stride=2 (by default=kernel_size)\n",
    "<br>\n",
    "(46-2)/2 + 1 = 23 i.e, 32 channels of size  23x23\n",
    "<br>\n",
    "=> 32x23x23\n",
    "<br>\n",
    "and so on.....\n"
   ]
  },
  {
   "cell_type": "code",
   "execution_count": null,
   "metadata": {},
   "outputs": [],
   "source": []
  }
 ],
 "metadata": {
  "kernelspec": {
   "display_name": "Python 3",
   "language": "python",
   "name": "python3"
  },
  "language_info": {
   "codemirror_mode": {
    "name": "ipython",
    "version": 3
   },
   "file_extension": ".py",
   "mimetype": "text/x-python",
   "name": "python",
   "nbconvert_exporter": "python",
   "pygments_lexer": "ipython3",
   "version": "3.7.3"
  }
 },
 "nbformat": 4,
 "nbformat_minor": 2
}

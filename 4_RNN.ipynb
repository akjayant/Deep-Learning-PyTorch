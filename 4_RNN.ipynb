{
 "cells": [
  {
   "cell_type": "markdown",
   "metadata": {},
   "source": [
    "## 4 - Recurrent Neural Nets : Name Origin Classification"
   ]
  },
  {
   "cell_type": "code",
   "execution_count": 1,
   "metadata": {},
   "outputs": [],
   "source": [
    "from __future__ import unicode_literals, print_function, division\n",
    "import torch\n",
    "import torch.nn as nn\n",
    "import glob  #helpful in finding pathnames following specific pattern\n",
    "import unicodedata\n",
    "import string\n",
    "import os\n",
    "import random\n",
    "import torch.nn.functional as F"
   ]
  },
  {
   "cell_type": "code",
   "execution_count": 2,
   "metadata": {},
   "outputs": [],
   "source": [
    "all_letters = string.ascii_letters + \" .,;'\"\n",
    "n_letters = len(all_letters)"
   ]
  },
  {
   "cell_type": "markdown",
   "metadata": {},
   "source": [
    "### Preparing data and making its tensors"
   ]
  },
  {
   "cell_type": "code",
   "execution_count": 3,
   "metadata": {},
   "outputs": [],
   "source": [
    "def findTxtFiles(path_pattern):\n",
    "    return glob.glob(path_pattern)"
   ]
  },
  {
   "cell_type": "code",
   "execution_count": 4,
   "metadata": {},
   "outputs": [],
   "source": [
    "path_pattern = \"./rnn_data/names/*.txt\"\n",
    "files = findTxtFiles(path_pattern)"
   ]
  },
  {
   "cell_type": "code",
   "execution_count": 5,
   "metadata": {},
   "outputs": [
    {
     "data": {
      "text/plain": [
       "['./rnn_data/names/Czech.txt',\n",
       " './rnn_data/names/Dutch.txt',\n",
       " './rnn_data/names/Korean.txt',\n",
       " './rnn_data/names/Russian.txt',\n",
       " './rnn_data/names/Scottish.txt',\n",
       " './rnn_data/names/Spanish.txt',\n",
       " './rnn_data/names/Greek.txt',\n",
       " './rnn_data/names/Vietnamese.txt',\n",
       " './rnn_data/names/Irish.txt',\n",
       " './rnn_data/names/German.txt',\n",
       " './rnn_data/names/Polish.txt',\n",
       " './rnn_data/names/French.txt',\n",
       " './rnn_data/names/Portuguese.txt',\n",
       " './rnn_data/names/Chinese.txt',\n",
       " './rnn_data/names/Italian.txt',\n",
       " './rnn_data/names/Arabic.txt',\n",
       " './rnn_data/names/English.txt',\n",
       " './rnn_data/names/Japanese.txt']"
      ]
     },
     "execution_count": 5,
     "metadata": {},
     "output_type": "execute_result"
    }
   ],
   "source": [
    "files"
   ]
  },
  {
   "cell_type": "code",
   "execution_count": 6,
   "metadata": {},
   "outputs": [],
   "source": [
    "class_list = []\n",
    "word_class_dict = {}"
   ]
  },
  {
   "cell_type": "code",
   "execution_count": 7,
   "metadata": {},
   "outputs": [],
   "source": [
    "def unicodeToAscii(s):\n",
    "    return ''.join(\n",
    "        c for c in unicodedata.normalize('NFD', s)\n",
    "        if unicodedata.category(c) != 'Mn'\n",
    "        and c in all_letters)\n",
    "def readTxt(file):\n",
    "    lines = open(file, encoding='utf-8').read().strip().split('\\n')\n",
    "    return [unicodeToAscii(line) for line in lines]\n",
    "\n",
    "for file in files:\n",
    "    class_name = os.path.splitext(os.path.basename(file))[0]\n",
    "    class_list.append(class_name)\n",
    "    lines = readTxt(file)\n",
    "    word_class_dict[class_name] = lines"
   ]
  },
  {
   "cell_type": "code",
   "execution_count": 8,
   "metadata": {},
   "outputs": [
    {
     "data": {
      "text/plain": [
       "['Abel', 'Abraham', 'Adam', 'Albert', 'Allard']"
      ]
     },
     "execution_count": 8,
     "metadata": {},
     "output_type": "execute_result"
    }
   ],
   "source": [
    "word_class_dict['French'][:5]"
   ]
  },
  {
   "cell_type": "code",
   "execution_count": 9,
   "metadata": {},
   "outputs": [],
   "source": [
    "n_class = len(class_list)"
   ]
  },
  {
   "cell_type": "code",
   "execution_count": 10,
   "metadata": {},
   "outputs": [
    {
     "name": "stdout",
     "output_type": "stream",
     "text": [
      "6\n"
     ]
    }
   ],
   "source": [
    "#preparing character-wise tensor\n",
    "print(all_letters.index('g'))\n",
    "\n",
    "\n",
    "def letter2index(letter):\n",
    "    return all_letters.index(letter)\n",
    "def letter2tensor(letter):\n",
    "    idx = letter2index(letter)\n",
    "    x = torch.zeros(1,n_letters)\n",
    "    x[0][idx]=1\n",
    "    return x\n",
    "def name2tensor(name):\n",
    "    n_name = len(name)\n",
    "    x = torch.zeros(n_name,1,n_letters)\n",
    "    for i,letter in enumerate(name):\n",
    "        x[i][0][letter2index(letter)]=1\n",
    "    return x"
   ]
  },
  {
   "cell_type": "code",
   "execution_count": 11,
   "metadata": {},
   "outputs": [
    {
     "data": {
      "text/plain": [
       "tensor([[[1., 0., 0., 0., 0., 0., 0., 0., 0., 0., 0., 0., 0., 0., 0., 0., 0.,\n",
       "          0., 0., 0., 0., 0., 0., 0., 0., 0., 0., 0., 0., 0., 0., 0., 0., 0.,\n",
       "          0., 0., 0., 0., 0., 0., 0., 0., 0., 0., 0., 0., 0., 0., 0., 0., 0.,\n",
       "          0., 0., 0., 0., 0., 0.]],\n",
       "\n",
       "        [[0., 0., 0., 0., 0., 0., 0., 0., 0., 0., 0., 0., 0., 0., 0., 0., 0.,\n",
       "          0., 1., 0., 0., 0., 0., 0., 0., 0., 0., 0., 0., 0., 0., 0., 0., 0.,\n",
       "          0., 0., 0., 0., 0., 0., 0., 0., 0., 0., 0., 0., 0., 0., 0., 0., 0.,\n",
       "          0., 0., 0., 0., 0., 0.]],\n",
       "\n",
       "        [[0., 0., 0., 0., 0., 0., 0., 1., 0., 0., 0., 0., 0., 0., 0., 0., 0.,\n",
       "          0., 0., 0., 0., 0., 0., 0., 0., 0., 0., 0., 0., 0., 0., 0., 0., 0.,\n",
       "          0., 0., 0., 0., 0., 0., 0., 0., 0., 0., 0., 0., 0., 0., 0., 0., 0.,\n",
       "          0., 0., 0., 0., 0., 0.]],\n",
       "\n",
       "        [[0., 0., 0., 0., 0., 0., 0., 0., 1., 0., 0., 0., 0., 0., 0., 0., 0.,\n",
       "          0., 0., 0., 0., 0., 0., 0., 0., 0., 0., 0., 0., 0., 0., 0., 0., 0.,\n",
       "          0., 0., 0., 0., 0., 0., 0., 0., 0., 0., 0., 0., 0., 0., 0., 0., 0.,\n",
       "          0., 0., 0., 0., 0., 0.]],\n",
       "\n",
       "        [[0., 0., 0., 0., 0., 0., 0., 0., 0., 0., 0., 0., 0., 0., 0., 0., 0.,\n",
       "          0., 1., 0., 0., 0., 0., 0., 0., 0., 0., 0., 0., 0., 0., 0., 0., 0.,\n",
       "          0., 0., 0., 0., 0., 0., 0., 0., 0., 0., 0., 0., 0., 0., 0., 0., 0.,\n",
       "          0., 0., 0., 0., 0., 0.]],\n",
       "\n",
       "        [[0., 0., 0., 0., 0., 0., 0., 1., 0., 0., 0., 0., 0., 0., 0., 0., 0.,\n",
       "          0., 0., 0., 0., 0., 0., 0., 0., 0., 0., 0., 0., 0., 0., 0., 0., 0.,\n",
       "          0., 0., 0., 0., 0., 0., 0., 0., 0., 0., 0., 0., 0., 0., 0., 0., 0.,\n",
       "          0., 0., 0., 0., 0., 0.]]])"
      ]
     },
     "execution_count": 11,
     "metadata": {},
     "output_type": "execute_result"
    }
   ],
   "source": [
    "name2tensor('ashish')"
   ]
  },
  {
   "cell_type": "markdown",
   "metadata": {},
   "source": [
    "### Auxillary Functions"
   ]
  },
  {
   "cell_type": "code",
   "execution_count": 25,
   "metadata": {},
   "outputs": [],
   "source": [
    "def predictClass(output):\n",
    "    max_val,max_idx = output.topk(1)\n",
    "    class_idx = max_idx[0].item()\n",
    "    return class_list[class_idx],class_idx\n",
    "\n",
    "# give random choice index in a list\n",
    "def makeRandomChoice(l):\n",
    "    return random.randint(0,len(l)-1)\n",
    "\n",
    "\n",
    "\n",
    "def makeRandomExampleTensor():\n",
    "    choose_class = class_list[makeRandomChoice(class_list)]\n",
    "    choose_word = word_class_dict[choose_class][makeRandomChoice(word_class_dict[choose_class])]\n",
    "    y = torch.tensor([class_list.index(choose_class)],dtype=torch.long)\n",
    "    X = name2tensor(choose_word)\n",
    "    return choose_class,choose_word,X,y\n",
    "\n",
    "\n",
    "            \n",
    "def initCuda(force_cpu=True):\n",
    "    ## Do check for cuda device\n",
    "    if torch.cuda.is_available() and force_cpu==False:\n",
    "        device = torch.device(\"cuda:0\")\n",
    "        print(\"GPU Process\")\n",
    "    elif force_cpu:\n",
    "        device = torch.device(\"cpu\")\n",
    "        print(\"CPU Process\")\n",
    "    else:\n",
    "        device = torch.device(\"cpu\")\n",
    "        print(\"CPU Process\")\n",
    "    return device\n"
   ]
  },
  {
   "cell_type": "markdown",
   "metadata": {},
   "source": [
    "### RNN Architecture"
   ]
  },
  {
   "cell_type": "code",
   "execution_count": 69,
   "metadata": {},
   "outputs": [],
   "source": [
    "class RNN(nn.Module):\n",
    "    def __init__(self,input_size,hidden_size,output_size):\n",
    "        super(RNN,self).__init__()\n",
    "        self.hidden_size = hidden_size\n",
    "        self.input_size = hidden_size + input_size\n",
    "        \n",
    "        #Layers\n",
    "        self.input_hidden = nn.Linear(self.input_size,self.hidden_size)\n",
    "        self.hidden_hidden = nn.Linear(self.hidden_size,self.hidden_size)\n",
    "        self.hidden_output = nn.Linear(self.hidden_size,output_size)\n",
    "        self.softmax = nn.LogSoftmax(dim=1)\n",
    "    #forward gives us recursion by prev_hidden arguement!\n",
    "    def forward(self,data, prev_hidden):\n",
    "        combined = torch.cat((data,prev_hidden),1)\n",
    "        hidden = self.input_hidden(combined)\n",
    "        hidden = F.relu(hidden)\n",
    "        hidden = self.hidden_hidden(hidden)\n",
    "        hidden = F.relu(hidden)\n",
    "        output = self.hidden_output(hidden)\n",
    "        output = self.softmax(output)\n",
    "        return output,hidden\n",
    "    def init_hidden(self):\n",
    "        return torch.zeros(1,self.hidden_size)\n",
    "    \n",
    "\n",
    "    \n",
    "###Training Function\n",
    "\n",
    "def train(model,n_iters):\n",
    "    loss_tracker = []\n",
    "    for i in range(n_iters):\n",
    "        hidden = model.init_hidden()\n",
    "        _,_,X,y = makeRandomExampleTensor()\n",
    "        X.to(device)\n",
    "        y.to(device)\n",
    "        model.zero_grad()\n",
    "        for j in range(X.size()[0]):\n",
    "            output,hidden = model(X[j],hidden)\n",
    "            output.to(device)\n",
    "            hidden.to(device)\n",
    "            #print(output)\n",
    "            #print(y)\n",
    "        loss = criterion(output,y)\n",
    "        loss.backward()\n",
    "        optimizer.step()\n",
    "        if i%5000==0:\n",
    "            loss_tracker.append(loss)    \n",
    "    return loss_tracker\n",
    "    "
   ]
  },
  {
   "cell_type": "markdown",
   "metadata": {},
   "source": [
    "#### What's happening?\n",
    "Sequence will be passed letter by letter and output will pe predicted at each time step, loss is calculated at each time step.\n",
    "<img src=\"./images/rnn.png\" height=\"600\" width=\"600\">\n",
    "\n",
    "\n",
    "We sum up the error gradient at each time step  de/dw = <img src=\"./images/sum_error_grad.png\">\n",
    "\n",
    "and similarly for U and V\n",
    "\n",
    "* Gradient wrt W will not only depend on current time step but also on prev time steps hence it is backproogation through time otherwise there is no difference between this and normal backprop used in feedforward nn."
   ]
  },
  {
   "cell_type": "code",
   "execution_count": 76,
   "metadata": {},
   "outputs": [
    {
     "name": "stdout",
     "output_type": "stream",
     "text": [
      "CPU Process\n"
     ]
    }
   ],
   "source": [
    "device = initCuda()"
   ]
  },
  {
   "cell_type": "code",
   "execution_count": 77,
   "metadata": {},
   "outputs": [
    {
     "name": "stdout",
     "output_type": "stream",
     "text": [
      "RNN(\n",
      "  (input_hidden): Linear(in_features=185, out_features=128, bias=True)\n",
      "  (hidden_hidden): Linear(in_features=128, out_features=128, bias=True)\n",
      "  (hidden_output): Linear(in_features=128, out_features=18, bias=True)\n",
      "  (softmax): LogSoftmax()\n",
      ")\n"
     ]
    }
   ],
   "source": [
    "hidden_size = 128\n",
    "rnn = RNN(n_letters,hidden_size,n_class).to(device)\n",
    "print(rnn)"
   ]
  },
  {
   "cell_type": "code",
   "execution_count": 78,
   "metadata": {},
   "outputs": [],
   "source": [
    "import torch.optim as optim\n",
    "optimizer = optim.Adam(rnn.parameters(),lr=0.00025)\n",
    "criterion = nn.NLLLoss()\n"
   ]
  },
  {
   "cell_type": "code",
   "execution_count": 79,
   "metadata": {},
   "outputs": [],
   "source": [
    "loss_plot = train(rnn,50000)"
   ]
  },
  {
   "cell_type": "code",
   "execution_count": 80,
   "metadata": {},
   "outputs": [
    {
     "data": {
      "image/png": "[encoded data removed]",
      "text/plain": [
       "<Figure size 432x288 with 1 Axes>"
      ]
     },
     "metadata": {
      "needs_background": "light"
     },
     "output_type": "display_data"
    }
   ],
   "source": [
    "import matplotlib.pyplot as plt\n",
    "import matplotlib.ticker as ticker\n",
    "plt.plot(loss_plot)\n",
    "plt.show()"
   ]
  },
  {
   "cell_type": "code",
   "execution_count": 81,
   "metadata": {},
   "outputs": [
    {
     "data": {
      "image/png": "[encoded data removed]",
      "text/plain": [
       "<Figure size 1080x1080 with 2 Axes>"
      ]
     },
     "metadata": {
      "needs_background": "light"
     },
     "output_type": "display_data"
    }
   ],
   "source": [
    "# Copied as it is from 60 min blitz\n",
    "confusion = torch.zeros(n_class, n_class)\n",
    "n_confusion = 10000\n",
    "all_categories=class_list\n",
    "n_categories = n_class\n",
    "# Just return an output given a line\n",
    "def evaluate(line_tensor):\n",
    "    with torch.no_grad():\n",
    "        hidden = rnn.init_hidden()\n",
    "\n",
    "        for i in range(line_tensor.size()[0]):\n",
    "            output, hidden = rnn(line_tensor[i], hidden)\n",
    "\n",
    "    return output\n",
    "\n",
    "# Go through a bunch of examples and record which are correctly guessed\n",
    "for i in range(n_confusion):\n",
    "    category, line, line_tensor,category_tensor = makeRandomExampleTensor()\n",
    "    #print(line_tensor)\n",
    "    output = evaluate(line_tensor)\n",
    "    guess, guess_i = predictClass(output)\n",
    "    category_i = all_categories.index(category)\n",
    "    confusion[category_i][guess_i] += 1\n",
    "\n",
    "# Normalize by dividing every row by its sum\n",
    "for i in range(n_categories):\n",
    "    confusion[i] = confusion[i] / confusion[i].sum()\n",
    "\n",
    "# Set up plot\n",
    "fig = plt.figure(figsize=(15,15))\n",
    "ax = fig.add_subplot(111)\n",
    "cax = ax.matshow(confusion.numpy())\n",
    "fig.colorbar(cax)\n",
    "\n",
    "# Set up axes\n",
    "ax.set_xticklabels([''] + all_categories, rotation=90)\n",
    "ax.set_yticklabels([''] + all_categories)\n",
    "\n",
    "# Force label at every tick\n",
    "ax.xaxis.set_major_locator(ticker.MultipleLocator(1))\n",
    "ax.yaxis.set_major_locator(ticker.MultipleLocator(1))\n",
    "\n",
    "# sphinx_gallery_thumbnail_number = 2\n",
    "plt.show()"
   ]
  },
  {
   "cell_type": "code",
   "execution_count": null,
   "metadata": {},
   "outputs": [],
   "source": []
  }
 ],
 "metadata": {
  "kernelspec": {
   "display_name": "Python 3",
   "language": "python",
   "name": "python3"
  },
  "language_info": {
   "codemirror_mode": {
    "name": "ipython",
    "version": 3
   },
   "file_extension": ".py",
   "mimetype": "text/x-python",
   "name": "python",
   "nbconvert_exporter": "python",
   "pygments_lexer": "ipython3",
   "version": "3.7.3"
  }
 },
 "nbformat": 4,
 "nbformat_minor": 2
}

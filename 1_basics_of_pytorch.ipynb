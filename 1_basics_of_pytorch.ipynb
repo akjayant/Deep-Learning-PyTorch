{
 "cells": [
  {
   "cell_type": "markdown",
   "metadata": {},
   "source": [
    "### PyTorch Tutorial 60 minutes blitz - Basics of PyTorch"
   ]
  },
  {
   "cell_type": "code",
   "execution_count": 2,
   "metadata": {},
   "outputs": [],
   "source": [
    "from __future__ import print_function\n",
    "import torch\n",
    "import torchvision\n",
    "from torchvision import datasets,transforms\n"
   ]
  },
  {
   "cell_type": "markdown",
   "metadata": {},
   "source": [
    "#### basic stuff"
   ]
  },
  {
   "cell_type": "code",
   "execution_count": 3,
   "metadata": {},
   "outputs": [],
   "source": [
    "x = torch.empty(5,3)"
   ]
  },
  {
   "cell_type": "code",
   "execution_count": 9,
   "metadata": {},
   "outputs": [
    {
     "name": "stdout",
     "output_type": "stream",
     "text": [
      "tensor([[1.1307e-21, 4.5681e-41, 1.6056e+27],\n",
      "        [3.0931e-41,        nan, 3.0931e-41],\n",
      "        [4.6083e-39, 3.0931e-41, 1.5887e+27],\n",
      "        [3.0931e-41, 2.0319e-43, 0.0000e+00],\n",
      "        [1.6326e+27, 3.0931e-41, 1.6640e+27]])\n"
     ]
    }
   ],
   "source": [
    "print(x) #whatever values were there at mem loc before allocation"
   ]
  },
  {
   "cell_type": "code",
   "execution_count": 10,
   "metadata": {},
   "outputs": [],
   "source": [
    "x = torch.rand(5,3)"
   ]
  },
  {
   "cell_type": "code",
   "execution_count": 11,
   "metadata": {},
   "outputs": [
    {
     "name": "stdout",
     "output_type": "stream",
     "text": [
      "tensor([[0.0755, 0.1984, 0.7212],\n",
      "        [0.6720, 0.0222, 0.0584],\n",
      "        [0.4364, 0.3218, 0.7280],\n",
      "        [0.1343, 0.5469, 0.8850],\n",
      "        [0.9704, 0.9832, 0.6276]])\n"
     ]
    }
   ],
   "source": [
    "print(x)"
   ]
  },
  {
   "cell_type": "code",
   "execution_count": 13,
   "metadata": {},
   "outputs": [],
   "source": [
    "x = torch.zeros(5,3, dtype=torch.long)"
   ]
  },
  {
   "cell_type": "code",
   "execution_count": 14,
   "metadata": {},
   "outputs": [
    {
     "name": "stdout",
     "output_type": "stream",
     "text": [
      "tensor([[0, 0, 0],\n",
      "        [0, 0, 0],\n",
      "        [0, 0, 0],\n",
      "        [0, 0, 0],\n",
      "        [0, 0, 0]])\n"
     ]
    }
   ],
   "source": [
    "print(x)"
   ]
  },
  {
   "cell_type": "code",
   "execution_count": 15,
   "metadata": {},
   "outputs": [],
   "source": [
    "x = torch.tensor([5,3])"
   ]
  },
  {
   "cell_type": "code",
   "execution_count": 16,
   "metadata": {},
   "outputs": [
    {
     "name": "stdout",
     "output_type": "stream",
     "text": [
      "tensor([5, 3])\n"
     ]
    }
   ],
   "source": [
    "print(x)"
   ]
  },
  {
   "cell_type": "code",
   "execution_count": 17,
   "metadata": {},
   "outputs": [],
   "source": [
    "x = torch.ones(5,3)"
   ]
  },
  {
   "cell_type": "code",
   "execution_count": 31,
   "metadata": {},
   "outputs": [
    {
     "data": {
      "text/plain": [
       "[5, 3]"
      ]
     },
     "execution_count": 31,
     "metadata": {},
     "output_type": "execute_result"
    }
   ],
   "source": [
    "list(x.size())  # x.size is a tuple and support all tuple operations"
   ]
  },
  {
   "cell_type": "code",
   "execution_count": 30,
   "metadata": {},
   "outputs": [],
   "source": [
    "#create a tensor based on existing tensor new_* but it takes sizes\n",
    "y = x.new_zeros(size=x.size())"
   ]
  },
  {
   "cell_type": "code",
   "execution_count": 22,
   "metadata": {},
   "outputs": [
    {
     "data": {
      "text/plain": [
       "tensor([[0., 0., 0.],\n",
       "        [0., 0., 0.],\n",
       "        [0., 0., 0.],\n",
       "        [0., 0., 0.],\n",
       "        [0., 0., 0.]])"
      ]
     },
     "execution_count": 22,
     "metadata": {},
     "output_type": "execute_result"
    }
   ],
   "source": [
    "y"
   ]
  },
  {
   "cell_type": "code",
   "execution_count": 23,
   "metadata": {},
   "outputs": [],
   "source": [
    "z = torch.randn_like(x,dtype=torch.float)"
   ]
  },
  {
   "cell_type": "code",
   "execution_count": 24,
   "metadata": {},
   "outputs": [
    {
     "data": {
      "text/plain": [
       "tensor([[ 0.6841, -0.8358, -0.3119],\n",
       "        [ 0.8362, -0.0598,  1.2301],\n",
       "        [ 0.8889,  1.9005,  1.2464],\n",
       "        [ 0.4770,  0.1764,  0.1853],\n",
       "        [ 1.0269,  1.8007,  0.6005]])"
      ]
     },
     "execution_count": 24,
     "metadata": {},
     "output_type": "execute_result"
    }
   ],
   "source": [
    "z"
   ]
  },
  {
   "cell_type": "code",
   "execution_count": 32,
   "metadata": {},
   "outputs": [
    {
     "data": {
      "text/plain": [
       "tensor([[ 0.6841, -0.8358, -0.3119],\n",
       "        [ 0.8362, -0.0598,  1.2301],\n",
       "        [ 0.8889,  1.9005,  1.2464],\n",
       "        [ 0.4770,  0.1764,  0.1853],\n",
       "        [ 1.0269,  1.8007,  0.6005]])"
      ]
     },
     "execution_count": 32,
     "metadata": {},
     "output_type": "execute_result"
    }
   ],
   "source": [
    "#operations\n",
    "z+y"
   ]
  },
  {
   "cell_type": "code",
   "execution_count": 34,
   "metadata": {},
   "outputs": [
    {
     "data": {
      "text/plain": [
       "tensor([[ 0.6841, -0.8358, -0.3119],\n",
       "        [ 0.8362, -0.0598,  1.2301],\n",
       "        [ 0.8889,  1.9005,  1.2464],\n",
       "        [ 0.4770,  0.1764,  0.1853],\n",
       "        [ 1.0269,  1.8007,  0.6005]])"
      ]
     },
     "execution_count": 34,
     "metadata": {},
     "output_type": "execute_result"
    }
   ],
   "source": [
    "p = torch.empty(5,3)\n",
    "torch.add(z,y,out=p)"
   ]
  },
  {
   "cell_type": "code",
   "execution_count": 35,
   "metadata": {},
   "outputs": [
    {
     "data": {
      "text/plain": [
       "tensor([[ 0.6841, -0.8358, -0.3119],\n",
       "        [ 0.8362, -0.0598,  1.2301],\n",
       "        [ 0.8889,  1.9005,  1.2464],\n",
       "        [ 0.4770,  0.1764,  0.1853],\n",
       "        [ 1.0269,  1.8007,  0.6005]])"
      ]
     },
     "execution_count": 35,
     "metadata": {},
     "output_type": "execute_result"
    }
   ],
   "source": [
    "p"
   ]
  },
  {
   "cell_type": "code",
   "execution_count": 36,
   "metadata": {},
   "outputs": [
    {
     "data": {
      "text/plain": [
       "tensor([[1.6841, 0.1642, 0.6881],\n",
       "        [1.8362, 0.9402, 2.2301],\n",
       "        [1.8889, 2.9005, 2.2464],\n",
       "        [1.4770, 1.1764, 1.1853],\n",
       "        [2.0269, 2.8007, 1.6005]])"
      ]
     },
     "execution_count": 36,
     "metadata": {},
     "output_type": "execute_result"
    }
   ],
   "source": [
    "#inplace additions \n",
    "p.add_(x)"
   ]
  },
  {
   "cell_type": "code",
   "execution_count": 38,
   "metadata": {},
   "outputs": [
    {
     "data": {
      "text/plain": [
       "tensor([[1.6841],\n",
       "        [1.8362],\n",
       "        [1.8889],\n",
       "        [1.4770],\n",
       "        [2.0269]])"
      ]
     },
     "execution_count": 38,
     "metadata": {},
     "output_type": "execute_result"
    }
   ],
   "source": [
    "p[:,:1]  #indexing runs like numpy"
   ]
  },
  {
   "cell_type": "markdown",
   "metadata": {},
   "source": [
    "#### resizing"
   ]
  },
  {
   "cell_type": "code",
   "execution_count": 98,
   "metadata": {},
   "outputs": [
    {
     "data": {
      "text/plain": [
       "torch.Size([5, 3])"
      ]
     },
     "execution_count": 98,
     "metadata": {},
     "output_type": "execute_result"
    }
   ],
   "source": [
    "p.size()"
   ]
  },
  {
   "cell_type": "code",
   "execution_count": 99,
   "metadata": {},
   "outputs": [],
   "source": [
    "r = p.view(-1,5)   # -1 is inferred from other dimension   ie. (_,columns)"
   ]
  },
  {
   "cell_type": "code",
   "execution_count": 44,
   "metadata": {},
   "outputs": [
    {
     "data": {
      "text/plain": [
       "tensor([[1.6841, 0.1642, 0.6881, 1.8362, 0.9402],\n",
       "        [2.2301, 1.8889, 2.9005, 2.2464, 1.4770],\n",
       "        [1.1764, 1.1853, 2.0269, 2.8007, 1.6005]])"
      ]
     },
     "execution_count": 44,
     "metadata": {},
     "output_type": "execute_result"
    }
   ],
   "source": [
    "r"
   ]
  },
  {
   "cell_type": "code",
   "execution_count": 45,
   "metadata": {},
   "outputs": [],
   "source": [
    "f = r.view(5*3)"
   ]
  },
  {
   "cell_type": "code",
   "execution_count": 53,
   "metadata": {},
   "outputs": [
    {
     "data": {
      "text/plain": [
       "tensor([1.6841, 0.1642, 0.6881, 1.8362, 0.9402, 2.2301, 1.8889, 2.9005, 2.2464,\n",
       "        1.4770, 1.1764, 1.1853, 2.0269, 2.8007, 1.6005])"
      ]
     },
     "execution_count": 53,
     "metadata": {},
     "output_type": "execute_result"
    }
   ],
   "source": [
    "f"
   ]
  },
  {
   "cell_type": "code",
   "execution_count": 102,
   "metadata": {},
   "outputs": [],
   "source": [
    "### lets try 3d matrix \n",
    "img = torch.empty(2,5,3)   ##depth = 2, rows=2 col=3"
   ]
  },
  {
   "cell_type": "code",
   "execution_count": 103,
   "metadata": {},
   "outputs": [
    {
     "data": {
      "text/plain": [
       "tensor([[[4.6840e-310, 9.5849e-322,  0.0000e+00],\n",
       "         [ 0.0000e+00,  0.0000e+00, 5.0203e+175],\n",
       "         [ 1.3958e-47,  3.5654e-57,  1.7724e-51],\n",
       "         [3.9543e+179, 1.4776e+248,  1.1610e-28],\n",
       "         [7.6917e+218, 1.3562e+248,  9.5690e-71]],\n",
       "\n",
       "        [[ 1.8158e-52,  8.9751e-67,  2.6107e-57],\n",
       "         [ 4.3026e-96, 6.3230e+233, 6.4822e+170],\n",
       "         [5.2241e+257, 5.7402e+180, 8.3717e-144],\n",
       "         [1.4153e+161,  6.0074e-67,  4.3138e+97],\n",
       "         [ 7.2766e-43, 2.9127e+126, 5.4324e-312]]])"
      ]
     },
     "execution_count": 103,
     "metadata": {},
     "output_type": "execute_result"
    }
   ],
   "source": [
    "img"
   ]
  },
  {
   "cell_type": "code",
   "execution_count": 108,
   "metadata": {},
   "outputs": [],
   "source": [
    "flat_img = img.view(2*5*3) ###flattened"
   ]
  },
  {
   "cell_type": "code",
   "execution_count": 110,
   "metadata": {},
   "outputs": [
    {
     "data": {
      "text/plain": [
       "torch.Size([30])"
      ]
     },
     "execution_count": 110,
     "metadata": {},
     "output_type": "execute_result"
    }
   ],
   "source": [
    "flat_img.size()"
   ]
  },
  {
   "cell_type": "markdown",
   "metadata": {},
   "source": [
    "#### others"
   ]
  },
  {
   "cell_type": "code",
   "execution_count": 52,
   "metadata": {},
   "outputs": [
    {
     "data": {
      "text/plain": [
       "0.16416329145431519"
      ]
     },
     "execution_count": 52,
     "metadata": {},
     "output_type": "execute_result"
    }
   ],
   "source": [
    "f[1].item()   #to get number as python number out not as tensor dtype"
   ]
  },
  {
   "cell_type": "code",
   "execution_count": 54,
   "metadata": {},
   "outputs": [
    {
     "data": {
      "text/plain": [
       "True"
      ]
     },
     "execution_count": 54,
     "metadata": {},
     "output_type": "execute_result"
    }
   ],
   "source": [
    "torch.is_floating_point(f)"
   ]
  },
  {
   "cell_type": "code",
   "execution_count": 57,
   "metadata": {},
   "outputs": [],
   "source": [
    "torch.set_default_dtype(torch.float64)"
   ]
  },
  {
   "cell_type": "code",
   "execution_count": 58,
   "metadata": {},
   "outputs": [
    {
     "data": {
      "text/plain": [
       "torch.float64"
      ]
     },
     "execution_count": 58,
     "metadata": {},
     "output_type": "execute_result"
    }
   ],
   "source": [
    "torch.get_default_dtype()"
   ]
  },
  {
   "cell_type": "code",
   "execution_count": 60,
   "metadata": {},
   "outputs": [
    {
     "data": {
      "text/plain": [
       "15"
      ]
     },
     "execution_count": 60,
     "metadata": {},
     "output_type": "execute_result"
    }
   ],
   "source": [
    "#no of elements in tensor \n",
    "torch.numel(f)"
   ]
  },
  {
   "cell_type": "markdown",
   "metadata": {},
   "source": [
    "#### convert to numpy"
   ]
  },
  {
   "cell_type": "code",
   "execution_count": 94,
   "metadata": {},
   "outputs": [
    {
     "data": {
      "text/plain": [
       "array([1.6841403 , 0.16416329, 0.68811744, 1.8362285 , 0.94019455,\n",
       "       2.230063  , 1.8889054 , 2.9004812 , 2.2464027 , 1.4769645 ,\n",
       "       1.1764094 , 1.1852916 , 2.0269074 , 2.8006654 , 1.6005466 ],\n",
       "      dtype=float32)"
      ]
     },
     "execution_count": 94,
     "metadata": {},
     "output_type": "execute_result"
    }
   ],
   "source": [
    "f.numpy()"
   ]
  },
  {
   "cell_type": "markdown",
   "metadata": {},
   "source": [
    "#### from numpy"
   ]
  },
  {
   "cell_type": "code",
   "execution_count": 97,
   "metadata": {},
   "outputs": [
    {
     "data": {
      "text/plain": [
       "tensor([1.6841, 0.1642, 0.6881, 1.8362, 0.9402, 2.2301, 1.8889, 2.9005, 2.2464,\n",
       "        1.4770, 1.1764, 1.1853, 2.0269, 2.8007, 1.6005], dtype=torch.float32)"
      ]
     },
     "execution_count": 97,
     "metadata": {},
     "output_type": "execute_result"
    }
   ],
   "source": [
    "b = torch.from_numpy(f.numpy())\n",
    "b"
   ]
  },
  {
   "cell_type": "markdown",
   "metadata": {},
   "source": [
    "#### sampling from distrbutions"
   ]
  },
  {
   "cell_type": "code",
   "execution_count": 62,
   "metadata": {},
   "outputs": [],
   "source": [
    "x = torch.randperm(5)  #random permutation from 0 to n-1"
   ]
  },
  {
   "cell_type": "code",
   "execution_count": 63,
   "metadata": {},
   "outputs": [
    {
     "data": {
      "text/plain": [
       "tensor([3, 2, 1, 0, 4])"
      ]
     },
     "execution_count": 63,
     "metadata": {},
     "output_type": "execute_result"
    }
   ],
   "source": [
    "x"
   ]
  },
  {
   "cell_type": "code",
   "execution_count": 78,
   "metadata": {},
   "outputs": [],
   "source": [
    "#uniform \n",
    "u = torch.empty(3,3).uniform_(0,1) #inplace and drawn every element from uniform distribution from 0 to 1"
   ]
  },
  {
   "cell_type": "code",
   "execution_count": 66,
   "metadata": {},
   "outputs": [
    {
     "data": {
      "text/plain": [
       "tensor([[0.7033, 0.9324, 0.5951],\n",
       "        [0.6628, 0.2446, 0.9312],\n",
       "        [0.1809, 0.1719, 0.5831]])"
      ]
     },
     "execution_count": 66,
     "metadata": {},
     "output_type": "execute_result"
    }
   ],
   "source": [
    "u"
   ]
  },
  {
   "cell_type": "markdown",
   "metadata": {},
   "source": [
    "#### bernoulli \n",
    "Draws binary random numbers (0 or 1) from a Bernoulli distribution.\n",
    "\n",
    "The input tensor should be a tensor containing probabilities to be used for drawing the binary random number. Hence, all values in input have to be in the range: 0 \\leq \\text{input}_i \\leq 10≤input \n",
    "i\n"
   ]
  },
  {
   "cell_type": "code",
   "execution_count": 68,
   "metadata": {},
   "outputs": [],
   "source": [
    "ber = torch.bernoulli(u)   ##every element ber[i][j] is drawn with probability u[i][j]"
   ]
  },
  {
   "cell_type": "code",
   "execution_count": 69,
   "metadata": {},
   "outputs": [
    {
     "data": {
      "text/plain": [
       "tensor([[0., 1., 0.],\n",
       "        [1., 0., 1.],\n",
       "        [0., 0., 0.]])"
      ]
     },
     "execution_count": 69,
     "metadata": {},
     "output_type": "execute_result"
    }
   ],
   "source": [
    "ber"
   ]
  },
  {
   "cell_type": "markdown",
   "metadata": {},
   "source": [
    " #### normal\n"
   ]
  },
  {
   "cell_type": "code",
   "execution_count": 77,
   "metadata": {},
   "outputs": [
    {
     "data": {
      "text/plain": [
       "tensor([4.1435, 1.2832])"
      ]
     },
     "execution_count": 77,
     "metadata": {},
     "output_type": "execute_result"
    }
   ],
   "source": [
    " torch.normal(mean=torch.arange(1.,3.), std=torch.arange(1, 1.2,0.1))"
   ]
  },
  {
   "cell_type": "code",
   "execution_count": 80,
   "metadata": {},
   "outputs": [
    {
     "data": {
      "text/plain": [
       "tensor([[ 0.9200, -0.2689, -0.2903, -0.2738, -2.3488],\n",
       "        [ 0.9162,  1.5318, -1.2294, -0.9844,  0.2938],\n",
       "        [ 0.0406,  1.1669,  0.3260, -0.7826,  0.3797],\n",
       "        [ 0.6635,  0.0212,  0.5828,  0.6645,  0.4748]])"
      ]
     },
     "execution_count": 80,
     "metadata": {},
     "output_type": "execute_result"
    }
   ],
   "source": [
    "torch.empty(4,5).normal_()   # mean =0 and std = 1 common for all "
   ]
  },
  {
   "cell_type": "markdown",
   "metadata": {},
   "source": [
    "#### norm\n"
   ]
  },
  {
   "cell_type": "code",
   "execution_count": 88,
   "metadata": {},
   "outputs": [
    {
     "data": {
      "text/plain": [
       "tensor([1.6841, 0.1642, 0.6881, 1.8362, 0.9402, 2.2301, 1.8889, 2.9005, 2.2464,\n",
       "        1.4770, 1.1764, 1.1853, 2.0269, 2.8007, 1.6005], dtype=torch.float32)"
      ]
     },
     "execution_count": 88,
     "metadata": {},
     "output_type": "execute_result"
    }
   ],
   "source": [
    "f"
   ]
  },
  {
   "cell_type": "code",
   "execution_count": 89,
   "metadata": {},
   "outputs": [
    {
     "data": {
      "text/plain": [
       "torch.Size([15])"
      ]
     },
     "execution_count": 89,
     "metadata": {},
     "output_type": "execute_result"
    }
   ],
   "source": [
    "f.size()"
   ]
  },
  {
   "cell_type": "code",
   "execution_count": 93,
   "metadata": {},
   "outputs": [
    {
     "data": {
      "text/plain": [
       "7.005486965179443"
      ]
     },
     "execution_count": 93,
     "metadata": {},
     "output_type": "execute_result"
    }
   ],
   "source": [
    "torch.norm(f).item() ###gives l2 norm for vector and frob for matrix. other options  'nuc' norm"
   ]
  },
  {
   "cell_type": "markdown",
   "metadata": {},
   "source": [
    "### cuda tensors"
   ]
  },
  {
   "cell_type": "code",
   "execution_count": 111,
   "metadata": {},
   "outputs": [
    {
     "data": {
      "text/plain": [
       "True"
      ]
     },
     "execution_count": 111,
     "metadata": {},
     "output_type": "execute_result"
    }
   ],
   "source": [
    "torch.cuda.is_available()"
   ]
  },
  {
   "cell_type": "code",
   "execution_count": 113,
   "metadata": {},
   "outputs": [
    {
     "name": "stdout",
     "output_type": "stream",
     "text": [
      "tensor([[1.7165, 1.4663, 0.9889],\n",
      "        [1.2787, 0.9946, 0.4919],\n",
      "        [1.1751, 0.8589, 0.7639],\n",
      "        [1.4035, 1.0794, 0.7931],\n",
      "        [1.1938, 0.4823, 0.6409]], device='cuda:0')\n"
     ]
    }
   ],
   "source": [
    "##always write it within if\n",
    "if torch.cuda.is_available():\n",
    "    device = torch.device(\"cuda\")\n",
    "    y = torch.rand(5,3,device=device)\n",
    "    z = torch.rand(5,3,device=device)\n",
    "    cuda_add = y+z\n",
    "    print(cuda_add)"
   ]
  },
  {
   "cell_type": "code",
   "execution_count": 114,
   "metadata": {},
   "outputs": [
    {
     "data": {
      "text/plain": [
       "tensor([[1.7165, 1.4663, 0.9889],\n",
       "        [1.2787, 0.9946, 0.4919],\n",
       "        [1.1751, 0.8589, 0.7639],\n",
       "        [1.4035, 1.0794, 0.7931],\n",
       "        [1.1938, 0.4823, 0.6409]], device='cuda:0')"
      ]
     },
     "execution_count": 114,
     "metadata": {},
     "output_type": "execute_result"
    }
   ],
   "source": [
    "cuda_add"
   ]
  },
  {
   "cell_type": "code",
   "execution_count": 117,
   "metadata": {},
   "outputs": [],
   "source": [
    "p=cuda_add.to(\"cpu\")"
   ]
  },
  {
   "cell_type": "code",
   "execution_count": 118,
   "metadata": {},
   "outputs": [
    {
     "data": {
      "text/plain": [
       "tensor([[1.7165, 1.4663, 0.9889],\n",
       "        [1.2787, 0.9946, 0.4919],\n",
       "        [1.1751, 0.8589, 0.7639],\n",
       "        [1.4035, 1.0794, 0.7931],\n",
       "        [1.1938, 0.4823, 0.6409]], device='cuda:0')"
      ]
     },
     "execution_count": 118,
     "metadata": {},
     "output_type": "execute_result"
    }
   ],
   "source": [
    "cuda_add"
   ]
  },
  {
   "cell_type": "code",
   "execution_count": 119,
   "metadata": {},
   "outputs": [
    {
     "data": {
      "text/plain": [
       "tensor([[1.7165, 1.4663, 0.9889],\n",
       "        [1.2787, 0.9946, 0.4919],\n",
       "        [1.1751, 0.8589, 0.7639],\n",
       "        [1.4035, 1.0794, 0.7931],\n",
       "        [1.1938, 0.4823, 0.6409]])"
      ]
     },
     "execution_count": 119,
     "metadata": {},
     "output_type": "execute_result"
    }
   ],
   "source": [
    "p"
   ]
  },
  {
   "cell_type": "code",
   "execution_count": null,
   "metadata": {},
   "outputs": [],
   "source": []
  }
 ],
 "metadata": {
  "kernelspec": {
   "display_name": "Python 3",
   "language": "python",
   "name": "python3"
  },
  "language_info": {
   "codemirror_mode": {
    "name": "ipython",
    "version": 3
   },
   "file_extension": ".py",
   "mimetype": "text/x-python",
   "name": "python",
   "nbconvert_exporter": "python",
   "pygments_lexer": "ipython3",
   "version": "3.7.3"
  }
 },
 "nbformat": 4,
 "nbformat_minor": 2
}
